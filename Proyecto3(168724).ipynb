{
  "nbformat": 4,
  "nbformat_minor": 0,
  "metadata": {
    "colab": {
      "provenance": [],
      "authorship_tag": "ABX9TyPfi3yUnp8RL6N6GL0V0k0Y",
      "include_colab_link": true
    },
    "kernelspec": {
      "name": "python3",
      "display_name": "Python 3"
    },
    "language_info": {
      "name": "python"
    }
  },
  "cells": [
    {
      "cell_type": "markdown",
      "metadata": {
        "id": "view-in-github",
        "colab_type": "text"
      },
      "source": [
        "<a href=\"https://colab.research.google.com/github/arturoac2000/Inteligencia-Artifical/blob/main/Proyecto3(168724).ipynb\" target=\"_parent\"><img src=\"https://colab.research.google.com/assets/colab-badge.svg\" alt=\"Open In Colab\"/></a>"
      ]
    },
    {
      "cell_type": "code",
      "execution_count": 1,
      "metadata": {
        "id": "IELBBA7uTsYe"
      },
      "outputs": [],
      "source": [
        "import numpy as np\n",
        "from collections import Counter\n",
        "from random import choices\n",
        "from tqdm import tqdm"
      ]
    },
    {
      "cell_type": "code",
      "source": [
        "tiempo_max = 72*60\n",
        "\n",
        "names = [\"Madrid\", \"Barcelona\", \"Paris\", \"Lyon\", \"London\", \"Brussels\",\n",
        "                \"Frankfurt\", \"Milan\", \"Amsterdam\", \"Cologne\", \"Berlin\", \"Roma\"]\n",
        "\n",
        "adyacencia = np.asarray([\n",
        "    #0, 1, 2, 3, 4, 5, 6, 7, 8, 9, 10, 11\n",
        "    [0, 1, 1, 0, 0, 0, 0, 0, 0, 0, 0, 0], #Madrid\n",
        "    [1, 0, 1, 1, 0, 0, 0, 0, 0, 0, 0, 0], #Barcelona\n",
        "    [1, 1, 0, 1, 1, 1, 1, 0, 0, 0, 0, 0], #Paris\n",
        "    [0, 1, 1, 0, 0, 0, 0, 1, 0, 0, 0, 0], #Lyon\n",
        "    [0, 0, 1, 0, 0, 0, 0, 0, 0, 0, 0, 0], #London\n",
        "    [0, 0, 1, 0, 0, 0, 0, 0, 1, 0, 0, 0], #Brussels\n",
        "    [0, 0, 1, 0, 0, 0, 0, 1, 0, 1, 1, 0], #Frankfurt\n",
        "    [0, 0, 0, 1, 0, 0, 1, 0, 0, 0, 0, 1], #Milan\n",
        "    [0, 0, 0, 0, 0, 1, 0, 0, 0, 1, 1, 0], #Amsterdam\n",
        "    [0, 0, 0, 0, 0, 0, 1, 0, 1, 0, 0, 0], #Cologne\n",
        "    [0, 0, 0, 0, 0, 0, 1, 0, 1, 0, 0, 0], #Berlin\n",
        "    [0, 0, 0, 0, 0, 0, 0, 1, 0, 0, 0, 0], #Roma\n",
        "])\n",
        "\n",
        "costo_t = np.asarray([\n",
        "    [0, 150, 225, 0, 0, 0, 0, 0, 0, 0, 0, 0], #Madrid\n",
        "    [150, 0, 390, 200, 0, 0, 0, 0, 0, 0, 0, 0], #Barcelona\n",
        "    [225, 390, 0, 112, 136, 82, 480, 0, 0, 0, 0, 0], #Paris\n",
        "    [0, 200, 112, 0, 0, 0, 0, 176, 0, 0, 0, 0], #Lyon\n",
        "    [0, 0, 136, 0, 0, 0, 0, 0, 0, 0, 0, 0], #London\n",
        "    [0, 0, 82, 0, 0, 0, 0, 0, 120, 0, 0, 0], #Brussels\n",
        "    [0, 0, 480, 0, 0, 0, 0, 454, 0, 120, 232, 0], #Frankfurt\n",
        "    [0, 0, 0, 176, 0, 0, 454, 0, 0, 0, 0, 168], #Milan\n",
        "    [0, 0, 0, 0, 0, 120, 0, 0, 0, 120, 364, 0], #Amsterdam\n",
        "    [0, 0, 0, 0, 0, 0, 120, 0, 120, 0, 0, 0], #Cologne\n",
        "    [0, 0, 0, 0, 0, 0, 232, 0, 364, 0, 0, 0], #Berlin\n",
        "    [0, 0, 0, 0, 0, 0, 0, 168, 0, 0, 0, 0], #Roma\n",
        "])\n",
        "\n",
        "costo_d = np.asarray([\n",
        "    [0, 98, 380, 0, 0, 0, 0, 0, 0, 0, 0, 0], #Madrid\n",
        "    [98, 0, 400, 320, 0, 0, 0, 0, 0, 0, 0, 0], #Barcelona\n",
        "    [380, 400, 0, 185, 98, 80, 345, 0, 0, 0, 0, 0], #Paris\n",
        "    [0, 320, 185, 0, 0, 0, 0, 180, 0, 0, 0, 0], #Lyon\n",
        "    [0, 0, 98, 0, 0, 0, 0, 0, 0, 0, 0, 0], #London\n",
        "    [0, 0, 80, 0, 0, 0, 0, 0, 48, 0, 0, 0], #Brussels\n",
        "    [0, 0, 345, 0, 0, 0, 0, 240, 0, 40, 125, 0], #Frankfurt\n",
        "    [0, 0, 0, 180, 0, 0, 240, 0, 0, 0, 0, 125], #Milan\n",
        "    [0, 0, 0, 0, 0, 48, 0, 0, 0, 40, 235, 0], #Amsterdam\n",
        "    [0, 0, 0, 0, 0, 0, 40, 0, 40, 0, 0, 0], #Cologne\n",
        "    [0, 0, 0, 0, 0, 0, 125, 0, 235, 0, 0, 0], #Berlin\n",
        "    [0, 0, 0, 0, 0, 0, 0, 125, 0, 0, 0, 0], #Roma\n",
        "])"
      ],
      "metadata": {
        "id": "3TiyTUBFT2Ta"
      },
      "execution_count": 2,
      "outputs": []
    },
    {
      "cell_type": "code",
      "source": [
        "def create_individual(gen_size, city_no):\n",
        "    individual = []\n",
        "    individual.append(int(np.random.randint(city_no + 1)))\n",
        "    for _ in range(gen_size):\n",
        "        next_city = int(np.random.randint(0, city_no))\n",
        "        while not adyacencia[individual[-1], next_city]:\n",
        "            next_city = int(np.random.randint(0, city_no))\n",
        "        individual.append(next_city)\n",
        "        if len(set(individual)) == city_no + 1:\n",
        "            break\n",
        "    return individual"
      ],
      "metadata": {
        "id": "8Vl5fDoQZkD2"
      },
      "execution_count": 3,
      "outputs": []
    },
    {
      "cell_type": "code",
      "source": [
        "def initial_population(pop_size, gen_size, city_no):\n",
        "    return [create_individual(gen_size, city_no) for _ in range(pop_size)]"
      ],
      "metadata": {
        "id": "OmTg38fXZmX4"
      },
      "execution_count": 4,
      "outputs": []
    },
    {
      "cell_type": "code",
      "source": [
        "def crossover(parent1, parent2):\n",
        "    common_cities = set(parent1).intersection(parent2)\n",
        "    if not common_cities:\n",
        "        return create_individual(len(parent1), len(adyacencia) - 1), create_individual(len(parent2), len(adyacencia) - 1)\n",
        "\n",
        "    city = np.random.choice(list(common_cities))\n",
        "    index_parent1, index_parent2 = parent1.index(city), parent2.index(city)\n",
        "    return parent1[:index_parent1] + parent2[index_parent2:], parent2[:index_parent2] + parent1[index_parent1:]"
      ],
      "metadata": {
        "id": "yWsYm6EaZpF3"
      },
      "execution_count": 5,
      "outputs": []
    },
    {
      "cell_type": "code",
      "source": [
        "def create_new_population(population, pop_size, elitism_coef):\n",
        "    sorted_population = sorted(population, key=lambda ind: fitness(ind), reverse=True)\n",
        "    fitness_values = [fitness(ind) for ind in sorted_population]\n",
        "    if sum(fitness_values) == 0:\n",
        "        return initial_population(pop_size, len(sorted_population[0]), len(adyacencia) - 1)\n",
        "\n",
        "    normalized_fitness = [fit / sum(fitness_values) for fit in fitness_values]\n",
        "    new_population = sorted_population[:elitism_coef]\n",
        "\n",
        "    for _ in range((pop_size - elitism_coef) // 2):\n",
        "        parents = choices(sorted_population, weights=normalized_fitness, k=2)\n",
        "        children = crossover(parents[0], parents[1])\n",
        "        new_population.extend(children)\n",
        "\n",
        "    return new_population"
      ],
      "metadata": {
        "id": "G2gwHqrbZqgX"
      },
      "execution_count": 6,
      "outputs": []
    },
    {
      "cell_type": "code",
      "source": [
        "def fitness(individual):\n",
        "    total_cost, total_time = 0, 0\n",
        "    for i in range(len(individual) - 1):\n",
        "        total_cost += costo_d[individual[i]][individual[i + 1]]\n",
        "        total_time += costo_t[individual[i]][individual[i + 1]]\n",
        "    return 0 if total_time > tiempo_max else total_cost"
      ],
      "metadata": {
        "id": "x7mafSKhZxN6"
      },
      "execution_count": 7,
      "outputs": []
    },
    {
      "cell_type": "code",
      "source": [
        "def describe_route(individual):\n",
        "    route_str = \"Ruta: \"\n",
        "    for i in range(len(individual) - 1):\n",
        "        route_str += f\"{names[individual[i]]} -> \"\n",
        "    return route_str + f\"{names[individual[-1]]}\""
      ],
      "metadata": {
        "id": "FSHVX6QXZxwf"
      },
      "execution_count": 8,
      "outputs": []
    },
    {
      "cell_type": "code",
      "source": [
        "def cities(population):\n",
        "    \"\"\"\n",
        "    Esta función toma una lista de genomas y devuelve una lista con el número de ciudades únicas visitadas por cada genoma.\n",
        "    \"\"\"\n",
        "    unique_cities = []\n",
        "    for genome in population:\n",
        "        unique_cities.append(len(set(genome)))\n",
        "    return unique_cities"
      ],
      "metadata": {
        "id": "JC2NhfaYZ2_i"
      },
      "execution_count": 9,
      "outputs": []
    },
    {
      "cell_type": "code",
      "source": [
        "def pop_fitness(population):\n",
        "    \"\"\"\n",
        "    Esta función toma una población de genomas y devuelve una lista de las aptitudes (fitness) de cada genoma.\n",
        "    \"\"\"\n",
        "    fitness_values = []\n",
        "    for genome in population:\n",
        "        fitness_values.append(fitness(genome))\n",
        "    return fitness_values"
      ],
      "metadata": {
        "id": "qGjlUhflZ6jr"
      },
      "execution_count": 10,
      "outputs": []
    },
    {
      "cell_type": "code",
      "source": [
        "def solution(genome, city_names):\n",
        "    \"\"\"\n",
        "    Esta función toma un genoma y una lista de nombres de ciudades y devuelve\n",
        "    una representación legible de la solución, que es una secuencia de ciudades.\n",
        "    \"\"\"\n",
        "    city_sequence = []\n",
        "    for city in genome:\n",
        "        city_sequence.append(city_names[city])\n",
        "    return ' -> '.join(city_sequence)"
      ],
      "metadata": {
        "id": "9IxcWhhRZ8ck"
      },
      "execution_count": 11,
      "outputs": []
    },
    {
      "cell_type": "code",
      "source": [
        "def create_genome_v2(gen_size):\n",
        "    genome = []\n",
        "    genome.append(int(np.random.randint(city_no + 1)))\n",
        "    for _ in range(gen_size):\n",
        "        next_city = int(np.random.randint(0, city_no))\n",
        "        while adyacencia[genome[-1], next_city] == 0:\n",
        "            next_city = int(np.random.randint(0, city_no))\n",
        "        genome.append(next_city)\n",
        "        if cities([genome])[0] == city_no + 1:\n",
        "            break\n",
        "    return genome"
      ],
      "metadata": {
        "id": "A0KaXdDYaCp4"
      },
      "execution_count": 12,
      "outputs": []
    },
    {
      "cell_type": "code",
      "source": [
        "def mutate_v2(genome1, genome2):\n",
        "    common_cities = set(genome1).intersection(genome2)\n",
        "    if not common_cities:\n",
        "        child1 = create_genome_v2(len(genome1))\n",
        "        child2 = create_genome_v2(len(genome2))\n",
        "        return child1, child2\n",
        "    city = np.random.choice(list(common_cities))\n",
        "    p = genome1.index(city)\n",
        "    q = genome2.index(city)\n",
        "    child1 = genome1[:p] + genome2[q:]\n",
        "    child2 = genome2[:q] + genome1[p:]\n",
        "    return child1, child2"
      ],
      "metadata": {
        "id": "yyG5_em9aF5w"
      },
      "execution_count": 13,
      "outputs": []
    },
    {
      "cell_type": "code",
      "source": [
        "def next_generation_v2(pop, pop_size, elitism_coef):\n",
        "    fit = pop_fitness(pop)\n",
        "    if np.all(fit == 0) or sum(fit) == 0:\n",
        "        return [create_genome_v2(gen_size) for _ in range(pop_size)]\n",
        "\n",
        "    cities_no = cities(pop)\n",
        "    temp = pop.copy()\n",
        "    temp.sort(key=fitness, reverse=True)\n",
        "    for i in range(len(fit)):\n",
        "        if fit[i] != 0:\n",
        "            fit[i] += cities_no[i]\n",
        "\n",
        "    next_gen = temp[:elitism_coef]\n",
        "\n",
        "    for _ in range(int(np.floor((pop_size - elitism_coef) / 2))):\n",
        "        pair = choices(pop, weights=fit, k=2)\n",
        "        next_gen.extend(mutate_v2(pair[0], pair[1]))\n",
        "\n",
        "    return next_gen"
      ],
      "metadata": {
        "id": "jCEX18d6aM_0"
      },
      "execution_count": 14,
      "outputs": []
    },
    {
      "cell_type": "code",
      "source": [
        "# Variables globales y configuración\n",
        "\n",
        "city_no = len(adyacencia) - 1\n",
        "pop_size = 40\n",
        "gen_size = 60\n",
        "epochs = 200\n",
        "elitism_coef = 2"
      ],
      "metadata": {
        "id": "bwL7p4oPaQ0w"
      },
      "execution_count": 15,
      "outputs": []
    },
    {
      "cell_type": "code",
      "source": [
        "# Algoritmo genético\n",
        "\n",
        "while True:\n",
        "    pop = [create_genome_v2(gen_size) for _ in range(pop_size)]\n",
        "    for _ in tqdm(range(epochs)):\n",
        "        pop = next_generation_v2(pop, pop_size, elitism_coef)\n",
        "\n",
        "    pop.sort(key=fitness, reverse=True)\n",
        "    fit = pop_fitness(pop)\n",
        "    if cities(pop)[0] == city_no + 1:\n",
        "        break"
      ],
      "metadata": {
        "colab": {
          "base_uri": "https://localhost:8080/"
        },
        "id": "PQfzIFVJaS1O",
        "outputId": "2fca3dc5-70a5-40a7-8fbd-efa476ee0b48"
      },
      "execution_count": 16,
      "outputs": [
        {
          "output_type": "stream",
          "name": "stderr",
          "text": [
            "100%|██████████| 200/200 [00:01<00:00, 137.25it/s]\n"
          ]
        }
      ]
    },
    {
      "cell_type": "code",
      "source": [
        "# Encontrar la mejor solución\n",
        "best_genome = min(pop, key=fitness)\n",
        "print(\"Mejor ruta encontrada:\", solution(best_genome, names))\n",
        "print(\"Número de ciudades únicas visitadas en la mejor ruta:\", cities(pop)[0])\n",
        "print(\"Costo total: \", fitness(best_genome))\n",
        "for gene in pop:\n",
        "    print(gene)"
      ],
      "metadata": {
        "colab": {
          "base_uri": "https://localhost:8080/"
        },
        "id": "c9TeolhIaVkc",
        "outputId": "023f0abe-cac0-4b4d-d21b-6d4d169a942f"
      },
      "execution_count": 17,
      "outputs": [
        {
          "output_type": "stream",
          "name": "stdout",
          "text": [
            "Mejor ruta encontrada: Roma -> Milan -> Lyon -> Milan -> Frankfurt -> Berlin -> Frankfurt -> Cologne -> Amsterdam -> Brussels -> Amsterdam -> Brussels -> Paris -> London -> Paris -> London -> Paris -> Madrid -> Barcelona\n",
            "Número de ciudades únicas visitadas en la mejor ruta: 12\n",
            "Costo total:  2149\n",
            "[11, 7, 3, 7, 6, 10, 6, 9, 8, 5, 8, 5, 2, 4, 2, 4, 2, 0, 1]\n",
            "[11, 7, 3, 7, 6, 10, 6, 9, 8, 5, 8, 5, 2, 4, 2, 4, 2, 0, 1]\n",
            "[11, 7, 3, 7, 6, 10, 6, 9, 8, 5, 8, 5, 2, 4, 2, 4, 2, 0, 1]\n",
            "[11, 7, 3, 7, 6, 10, 6, 9, 8, 5, 8, 5, 2, 4, 2, 4, 2, 0, 1]\n",
            "[11, 7, 3, 7, 6, 10, 6, 9, 8, 5, 8, 5, 2, 4, 2, 4, 2, 0, 1]\n",
            "[11, 7, 3, 7, 6, 10, 6, 9, 8, 5, 8, 5, 2, 4, 2, 4, 2, 0, 1]\n",
            "[11, 7, 3, 7, 6, 10, 6, 9, 8, 5, 8, 5, 2, 4, 2, 4, 2, 0, 1]\n",
            "[11, 7, 3, 7, 6, 10, 6, 9, 8, 5, 8, 5, 2, 4, 2, 4, 2, 0, 1]\n",
            "[11, 7, 3, 7, 6, 10, 6, 9, 8, 5, 8, 5, 2, 4, 2, 4, 2, 0, 1]\n",
            "[11, 7, 3, 7, 6, 10, 6, 9, 8, 5, 8, 5, 2, 4, 2, 4, 2, 0, 1]\n",
            "[11, 7, 3, 7, 6, 10, 6, 9, 8, 5, 8, 5, 2, 4, 2, 4, 2, 0, 1]\n",
            "[11, 7, 3, 7, 6, 10, 6, 9, 8, 5, 8, 5, 2, 4, 2, 4, 2, 0, 1]\n",
            "[11, 7, 3, 7, 6, 10, 6, 9, 8, 5, 8, 5, 2, 4, 2, 4, 2, 0, 1]\n",
            "[11, 7, 3, 7, 6, 10, 6, 9, 8, 5, 8, 5, 2, 4, 2, 4, 2, 0, 1]\n",
            "[11, 7, 3, 7, 6, 10, 6, 9, 8, 5, 8, 5, 2, 4, 2, 4, 2, 0, 1]\n",
            "[11, 7, 3, 7, 6, 10, 6, 9, 8, 5, 8, 5, 2, 4, 2, 4, 2, 0, 1]\n",
            "[11, 7, 3, 7, 6, 10, 6, 9, 8, 5, 8, 5, 2, 4, 2, 4, 2, 0, 1]\n",
            "[11, 7, 3, 7, 6, 10, 6, 9, 8, 5, 8, 5, 2, 4, 2, 4, 2, 0, 1]\n",
            "[11, 7, 3, 7, 6, 10, 6, 9, 8, 5, 8, 5, 2, 4, 2, 4, 2, 0, 1]\n",
            "[11, 7, 3, 7, 6, 10, 6, 9, 8, 5, 8, 5, 2, 4, 2, 4, 2, 0, 1]\n",
            "[11, 7, 3, 7, 6, 10, 6, 9, 8, 5, 8, 5, 2, 4, 2, 4, 2, 0, 1]\n",
            "[11, 7, 3, 7, 6, 10, 6, 9, 8, 5, 8, 5, 2, 4, 2, 4, 2, 0, 1]\n",
            "[11, 7, 3, 7, 6, 10, 6, 9, 8, 5, 8, 5, 2, 4, 2, 4, 2, 0, 1]\n",
            "[11, 7, 3, 7, 6, 10, 6, 9, 8, 5, 8, 5, 2, 4, 2, 4, 2, 0, 1]\n",
            "[11, 7, 3, 7, 6, 10, 6, 9, 8, 5, 8, 5, 2, 4, 2, 4, 2, 0, 1]\n",
            "[11, 7, 3, 7, 6, 10, 6, 9, 8, 5, 8, 5, 2, 4, 2, 4, 2, 0, 1]\n",
            "[11, 7, 3, 7, 6, 10, 6, 9, 8, 5, 8, 5, 2, 4, 2, 4, 2, 0, 1]\n",
            "[11, 7, 3, 7, 6, 10, 6, 9, 8, 5, 8, 5, 2, 4, 2, 4, 2, 0, 1]\n",
            "[11, 7, 3, 7, 6, 10, 6, 9, 8, 5, 8, 5, 2, 4, 2, 4, 2, 0, 1]\n",
            "[11, 7, 3, 7, 6, 10, 6, 9, 8, 5, 8, 5, 2, 4, 2, 4, 2, 0, 1]\n",
            "[11, 7, 3, 7, 6, 10, 6, 9, 8, 5, 8, 5, 2, 4, 2, 4, 2, 0, 1]\n",
            "[11, 7, 3, 7, 6, 10, 6, 9, 8, 5, 8, 5, 2, 4, 2, 4, 2, 0, 1]\n",
            "[11, 7, 3, 7, 6, 10, 6, 9, 8, 5, 8, 5, 2, 4, 2, 4, 2, 0, 1]\n",
            "[11, 7, 3, 7, 6, 10, 6, 9, 8, 5, 8, 5, 2, 4, 2, 4, 2, 0, 1]\n",
            "[11, 7, 3, 7, 6, 10, 6, 9, 8, 5, 8, 5, 2, 4, 2, 4, 2, 0, 1]\n",
            "[11, 7, 3, 7, 6, 10, 6, 9, 8, 5, 8, 5, 2, 4, 2, 4, 2, 0, 1]\n",
            "[11, 7, 3, 7, 6, 10, 6, 9, 8, 5, 8, 5, 2, 4, 2, 4, 2, 0, 1]\n",
            "[11, 7, 3, 7, 6, 10, 6, 9, 8, 5, 8, 5, 2, 4, 2, 4, 2, 0, 1]\n",
            "[11, 7, 3, 7, 6, 10, 6, 9, 8, 5, 8, 5, 2, 4, 2, 4, 2, 0, 1]\n",
            "[11, 7, 3, 7, 6, 10, 6, 9, 8, 5, 8, 5, 2, 4, 2, 4, 2, 0, 1]\n"
          ]
        }
      ]
    }
  ]
}